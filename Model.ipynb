{
 "cells": [
  {
   "cell_type": "code",
   "execution_count": 3,
   "metadata": {},
   "outputs": [
    {
     "name": "stderr",
     "output_type": "stream",
     "text": [
      "/home/sudeep/.conda/envs/keras_gpu_tensorflow/lib/python3.6/site-packages/h5py/__init__.py:36: FutureWarning: Conversion of the second argument of issubdtype from `float` to `np.floating` is deprecated. In future, it will be treated as `np.float64 == np.dtype(float).type`.\n",
      "  from ._conv import register_converters as _register_converters\n",
      "Using TensorFlow backend.\n"
     ]
    }
   ],
   "source": [
    "import numpy as np\n",
    "from keras import layers\n",
    "from keras.layers import Input, Dense, Activation, ZeroPadding2D, BatchNormalization, Flatten, Conv2D\n",
    "from keras.layers import AveragePooling2D, MaxPooling2D, Dropout, GlobalMaxPooling2D, GlobalAveragePooling2D\n",
    "from keras.models import Model\n",
    "from keras.preprocessing import image\n",
    "from keras.utils import layer_utils\n",
    "from keras.utils.data_utils import get_file\n",
    "from keras.applications.imagenet_utils import preprocess_input\n",
    "from IPython.display import SVG\n",
    "from keras.utils.vis_utils import model_to_dot\n",
    "from keras.utils import plot_model\n",
    "import os\n",
    "os.environ['CUDA_VISIBLE_DEVICES'] = '-1'\n",
    "import keras.backend as K\n",
    "K.set_image_data_format('channels_last')\n",
    "import matplotlib.pyplot as plt\n",
    "from matplotlib.pyplot import imshow\n",
    "%matplotlib inline"
   ]
  },
  {
   "cell_type": "code",
   "execution_count": 2,
   "metadata": {
    "collapsed": true
   },
   "outputs": [],
   "source": [
    "def convert_to_one_hot(Y, C):\n",
    "    Y = np.eye(C)[Y.reshape(-1)]\n",
    "    return Y\n",
    "\n",
    "def load_dataset():\n",
    "    X_train = np.load('./Data/train_196.npy')\n",
    "    X_test = np.load('./Data/test_196.npy')\n",
    "    X_val = np.load('./Data/val_196.npy')\n",
    "    Y_train = convert_to_one_hot(np.load('./Data/Ltrain_196.npy'), 8)\n",
    "    Y_test = convert_to_one_hot(np.load('./Data/Ltest_196.npy'), 8)\n",
    "    Y_val = convert_to_one_hot(np.load('./Data/Lval_196.npy'), 8)\n",
    "    p1 = np.random.permutation(len(X_train))\n",
    "    p2 = np.random.permutation(len(X_test))\n",
    "    p3 = np.random.permutation(len(X_val))\n",
    "    X_train = X_train[p1, :, :, :]\n",
    "    X_test = X_test[p2, :, :, :]\n",
    "    X_val = X_val[p3, :, :, :]\n",
    "    Y_train = Y_train[p1, :]\n",
    "    Y_test = Y_test[p2, :]\n",
    "    Y_val = Y_val[p3, :]\n",
    "    return X_train, X_test, X_val, Y_train, Y_test, Y_val"
   ]
  },
  {
   "cell_type": "code",
   "execution_count": 9,
   "metadata": {
    "collapsed": true
   },
   "outputs": [],
   "source": [
    "def PepperFryModel(input_shape):\n",
    "   \n",
    "    # Define the input placeholder as a tensor with shape input_shape. Think of this as your input image!\n",
    "    X_input = Input(input_shape)\n",
    "\n",
    "    # Zero-Padding: pads the border of X_input with zeroes\n",
    "    X = ZeroPadding2D((3, 3))(X_input)\n",
    "    \n",
    "    # layer group1 49*49*32\n",
    "    # CONV -> BN -> RELU Block applied to X\n",
    "    X = Conv2D(32, (7, 7), strides = (2, 2), name = 'conv1')(X)\n",
    "    X = BatchNormalization(axis = 3, name = 'bn1')(X)\n",
    "    X = Activation('relu')(X)\n",
    "    X = MaxPooling2D((2, 2), name='max_pool1')(X)\n",
    "    \n",
    "    #layer group2 24*24*64\n",
    "    X = ZeroPadding2D((2, 2))(X)\n",
    "    # CONV -> BN -> RELU Block applied to X\n",
    "    X = Conv2D(64, (5, 5), strides = (1, 1), name = 'conv2')(X)\n",
    "    X = BatchNormalization(axis = 3, name = 'bn2')(X)\n",
    "    X = Activation('relu')(X)\n",
    "    X = MaxPooling2D((2, 2), name='max_pool2')(X)\n",
    "    \n",
    "    #layer group3 12*12*128\n",
    "    X = ZeroPadding2D((1, 1))(X)\n",
    "    # CONV -> BN -> RELU Block applied to X\n",
    "    X = Conv2D(128, (3, 3), strides = (1, 1), name = 'conv3')(X)\n",
    "    X = BatchNormalization(axis = 3, name = 'bn3')(X)\n",
    "    X = Activation('relu')(X)\n",
    "    X = MaxPooling2D((2, 2), name='max_pool3')(X)\n",
    "    \n",
    "    #layer group4 12*12*64\n",
    "    # CONV -> BN -> RELU Block applied to X\n",
    "    X = Conv2D(64, (1, 1), strides = (1, 1), name = 'conv4')(X)\n",
    "    X = BatchNormalization(axis = 3, name = 'bn4')(X)\n",
    "    X = Activation('relu')(X)\n",
    "\n",
    "    #layer group5 6*6*32\n",
    "    X = ZeroPadding2D((1, 1))(X)\n",
    "    # CONV -> BN -> RELU Block applied to X\n",
    "    X = Conv2D(32, (3, 3), strides = (1, 1), name = 'conv5')(X)\n",
    "    X = BatchNormalization(axis = 3, name = 'bn5')(X)\n",
    "    X = Activation('relu')(X)\n",
    "    X = MaxPooling2D((2, 2), name='max_pool5')(X)\n",
    "    \n",
    "    # FLATTEN X (means convert it to a vector) + FULLYCONNECTED\n",
    "    X = Flatten()(X)\n",
    "    X = Dropout(0.3)(X)\n",
    "    X = Dense(196, activation='sigmoid', name='fc1')(X)\n",
    "    X = Dropout(0.3)(X)\n",
    "    X = Dense(8, activation='softmax', name='fc3')(X)\n",
    "    \n",
    "    # Create model. This creates your Keras model instance, you'll use this instance to train/test the model.\n",
    "    model = Model(inputs = X_input, outputs = X, name='HappyModel')\n",
    "    \n",
    "    ### END CODE HERE ###\n",
    "    \n",
    "    return model"
   ]
  },
  {
   "cell_type": "code",
   "execution_count": 10,
   "metadata": {},
   "outputs": [],
   "source": [
    "model = PepperFryModel((196, 196, 3))\n"
   ]
  },
  {
   "cell_type": "code",
   "execution_count": 11,
   "metadata": {
    "scrolled": true
   },
   "outputs": [
    {
     "name": "stdout",
     "output_type": "stream",
     "text": [
      "_________________________________________________________________\n",
      "Layer (type)                 Output Shape              Param #   \n",
      "=================================================================\n",
      "input_3 (InputLayer)         (None, 196, 196, 3)       0         \n",
      "_________________________________________________________________\n",
      "zero_padding2d_9 (ZeroPaddin (None, 202, 202, 3)       0         \n",
      "_________________________________________________________________\n",
      "conv1 (Conv2D)               (None, 98, 98, 32)        4736      \n",
      "_________________________________________________________________\n",
      "bn1 (BatchNormalization)     (None, 98, 98, 32)        128       \n",
      "_________________________________________________________________\n",
      "activation_11 (Activation)   (None, 98, 98, 32)        0         \n",
      "_________________________________________________________________\n",
      "max_pool1 (MaxPooling2D)     (None, 49, 49, 32)        0         \n",
      "_________________________________________________________________\n",
      "zero_padding2d_10 (ZeroPaddi (None, 53, 53, 32)        0         \n",
      "_________________________________________________________________\n",
      "conv2 (Conv2D)               (None, 49, 49, 64)        51264     \n",
      "_________________________________________________________________\n",
      "bn2 (BatchNormalization)     (None, 49, 49, 64)        256       \n",
      "_________________________________________________________________\n",
      "activation_12 (Activation)   (None, 49, 49, 64)        0         \n",
      "_________________________________________________________________\n",
      "max_pool2 (MaxPooling2D)     (None, 24, 24, 64)        0         \n",
      "_________________________________________________________________\n",
      "zero_padding2d_11 (ZeroPaddi (None, 26, 26, 64)        0         \n",
      "_________________________________________________________________\n",
      "conv3 (Conv2D)               (None, 24, 24, 128)       73856     \n",
      "_________________________________________________________________\n",
      "bn3 (BatchNormalization)     (None, 24, 24, 128)       512       \n",
      "_________________________________________________________________\n",
      "activation_13 (Activation)   (None, 24, 24, 128)       0         \n",
      "_________________________________________________________________\n",
      "max_pool3 (MaxPooling2D)     (None, 12, 12, 128)       0         \n",
      "_________________________________________________________________\n",
      "conv4 (Conv2D)               (None, 12, 12, 64)        8256      \n",
      "_________________________________________________________________\n",
      "bn4 (BatchNormalization)     (None, 12, 12, 64)        256       \n",
      "_________________________________________________________________\n",
      "activation_14 (Activation)   (None, 12, 12, 64)        0         \n",
      "_________________________________________________________________\n",
      "zero_padding2d_12 (ZeroPaddi (None, 14, 14, 64)        0         \n",
      "_________________________________________________________________\n",
      "conv5 (Conv2D)               (None, 12, 12, 32)        18464     \n",
      "_________________________________________________________________\n",
      "bn5 (BatchNormalization)     (None, 12, 12, 32)        128       \n",
      "_________________________________________________________________\n",
      "activation_15 (Activation)   (None, 12, 12, 32)        0         \n",
      "_________________________________________________________________\n",
      "max_pool5 (MaxPooling2D)     (None, 6, 6, 32)          0         \n",
      "_________________________________________________________________\n",
      "flatten_3 (Flatten)          (None, 1152)              0         \n",
      "_________________________________________________________________\n",
      "dropout_2 (Dropout)          (None, 1152)              0         \n",
      "_________________________________________________________________\n",
      "fc1 (Dense)                  (None, 196)               225988    \n",
      "_________________________________________________________________\n",
      "dropout_3 (Dropout)          (None, 196)               0         \n",
      "_________________________________________________________________\n",
      "fc3 (Dense)                  (None, 8)                 1576      \n",
      "=================================================================\n",
      "Total params: 385,420\n",
      "Trainable params: 384,780\n",
      "Non-trainable params: 640\n",
      "_________________________________________________________________\n",
      "None\n"
     ]
    }
   ],
   "source": [
    "print(model.summary())"
   ]
  },
  {
   "cell_type": "code",
   "execution_count": 10,
   "metadata": {},
   "outputs": [
    {
     "data": {
      "text/plain": [
       "((2756, 8), (2756, 196, 196, 3))"
      ]
     },
     "execution_count": 10,
     "metadata": {},
     "output_type": "execute_result"
    }
   ],
   "source": [
    "X_train, X_test, X_val, Y_train, Y_test, Y_val = load_dataset()\n",
    "\n",
    "Y_train.shape, X_train.shape"
   ]
  },
  {
   "cell_type": "code",
   "execution_count": 12,
   "metadata": {
    "collapsed": true
   },
   "outputs": [],
   "source": [
    "model.compile(optimizer = \"adam\", loss = \"categorical_crossentropy\", metrics = [\"accuracy\"])"
   ]
  },
  {
   "cell_type": "code",
   "execution_count": 13,
   "metadata": {},
   "outputs": [
    {
     "name": "stdout",
     "output_type": "stream",
     "text": [
      "Train on 2756 samples, validate on 537 samples\n",
      "Epoch 1/5\n",
      "2756/2756 [==============================] - 292s 106ms/step - loss: 0.2602 - acc: 0.9245 - val_loss: 0.5621 - val_acc: 0.8101\n",
      "Epoch 2/5\n",
      "2756/2756 [==============================] - 310s 112ms/step - loss: 0.1954 - acc: 0.9456 - val_loss: 0.2898 - val_acc: 0.9088\n",
      "Epoch 3/5\n",
      "2756/2756 [==============================] - 297s 108ms/step - loss: 0.1637 - acc: 0.9561 - val_loss: 0.3611 - val_acc: 0.8920\n",
      "Epoch 4/5\n",
      "2756/2756 [==============================] - 295s 107ms/step - loss: 0.1443 - acc: 0.9634 - val_loss: 0.3577 - val_acc: 0.9032\n",
      "Epoch 5/5\n",
      "2756/2756 [==============================] - 294s 107ms/step - loss: 0.1152 - acc: 0.9753 - val_loss: 0.2928 - val_acc: 0.9032\n"
     ]
    }
   ],
   "source": [
    "history = model.fit(x = X_train, y = Y_train, validation_data=(X_val, Y_val), epochs = 5, batch_size = 64)"
   ]
  },
  {
   "cell_type": "code",
   "execution_count": 12,
   "metadata": {},
   "outputs": [
    {
     "name": "stdout",
     "output_type": "stream",
     "text": [
      "\r",
      "539/539 [==============================] - 25s 46ms/step\n"
     ]
    },
    {
     "data": {
      "text/plain": [
       "[0.30304989218711853, 0.9146567583084106]"
      ]
     },
     "execution_count": 12,
     "metadata": {},
     "output_type": "execute_result"
    }
   ],
   "source": []
  },
  {
   "cell_type": "code",
   "execution_count": 15,
   "metadata": {
    "collapsed": true
   },
   "outputs": [],
   "source": []
  },
  {
   "cell_type": "code",
   "execution_count": 3,
   "metadata": {
    "collapsed": true
   },
   "outputs": [],
   "source": [
    "from keras.models import load_model\n",
    "model= load_model('Model_7_epochs_196.h5')"
   ]
  },
  {
   "cell_type": "code",
   "execution_count": 12,
   "metadata": {
    "collapsed": true
   },
   "outputs": [],
   "source": [
    "def load_by_name(name_X, name_Y):\n",
    "    X_train = np.load('./Data/'+name_X+'.npy')\n",
    "    Y_train = convert_to_one_hot(np.load('./Data/'+name_Y+'.npy'), 8)\n",
    "    p1 = np.random.permutation(len(X_train))\n",
    "    X_train = X_train[p1, :, :, :]\n",
    "    Y_train = Y_train[p1, :]\n",
    "    return X_train, Y_train\n",
    "X2, Y2 = load_by_name('X2', \"Y2\")"
   ]
  },
  {
   "cell_type": "code",
   "execution_count": 13,
   "metadata": {},
   "outputs": [
    {
     "data": {
      "text/plain": [
       "((1916, 196, 196, 3), (1916, 8))"
      ]
     },
     "execution_count": 13,
     "metadata": {},
     "output_type": "execute_result"
    }
   ],
   "source": [
    "X2.shape, Y2.shape"
   ]
  },
  {
   "cell_type": "code",
   "execution_count": 11,
   "metadata": {},
   "outputs": [
    {
     "name": "stdout",
     "output_type": "stream",
     "text": [
      "Train on 1916 samples, validate on 537 samples\n",
      "Epoch 1/1\n",
      "1916/1916 [==============================] - 220s 115ms/step - loss: 0.8300 - acc: 0.7260 - val_loss: 3.8108 - val_acc: 0.3184\n"
     ]
    },
    {
     "data": {
      "text/plain": [
       "<keras.callbacks.History at 0x7fb66189d0b8>"
      ]
     },
     "execution_count": 11,
     "metadata": {},
     "output_type": "execute_result"
    }
   ],
   "source": [
    "model.fit(x = X1, y = Y1, validation_data=(X_val, Y_val), epochs = 1, batch_size = 128)"
   ]
  },
  {
   "cell_type": "code",
   "execution_count": 13,
   "metadata": {
    "collapsed": true
   },
   "outputs": [],
   "source": [
    "model.save('untrained_DropOut.h5')"
   ]
  }
 ],
 "metadata": {
  "kernelspec": {
   "display_name": "Python [conda env:keras_gpu_tensorflow]",
   "language": "python",
   "name": "conda-env-keras_gpu_tensorflow-py"
  },
  "language_info": {
   "codemirror_mode": {
    "name": "ipython",
    "version": 3
   },
   "file_extension": ".py",
   "mimetype": "text/x-python",
   "name": "python",
   "nbconvert_exporter": "python",
   "pygments_lexer": "ipython3",
   "version": "3.6.4"
  }
 },
 "nbformat": 4,
 "nbformat_minor": 2
}
